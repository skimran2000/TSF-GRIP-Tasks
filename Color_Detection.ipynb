{
 "cells": [
  {
   "cell_type": "markdown",
   "id": "cd2c2a5d",
   "metadata": {},
   "source": [
    "# GRIP @ The Sparks Foundation\n",
    "\n",
    "# Author : Shaik Imranuddin\n",
    "\n",
    "## Task 2 : Color Identification in Images\n",
    "\n",
    "In this task, I have implemented an image color detector which identifies all the colors in the image or video\n",
    "\n",
    "## Technical Stack  : OpenCV, Numpy Array, Pandas"
   ]
  },
  {
   "cell_type": "code",
   "execution_count": 1,
   "id": "f6ddbe53",
   "metadata": {},
   "outputs": [],
   "source": [
    "# Importing the required libraries\n",
    "\n",
    "import cv2\n",
    "import numpy as np\n",
    "import pandas as pd"
   ]
  },
  {
   "cell_type": "markdown",
   "id": "a3bf6325",
   "metadata": {},
   "source": [
    "## Reading the image and colors file"
   ]
  },
  {
   "cell_type": "code",
   "execution_count": 2,
   "id": "524840d3",
   "metadata": {},
   "outputs": [],
   "source": [
    "img = cv2.imread(\"Images/testpic.jpg\")\n",
    "\n",
    "#declaring global variables which is used later in the program\n",
    "\n",
    "clicked = False\n",
    "r = g = b = xpos = ypos = 0"
   ]
  },
  {
   "cell_type": "code",
   "execution_count": 3,
   "id": "da5906ed",
   "metadata": {},
   "outputs": [],
   "source": [
    "# #Reading csv file with pandas and giving names to each column\n",
    "\n",
    "index=[\"color\",\"color_name\",\"hex\",\"R\",\"G\",\"B\"]\n",
    "csv = pd.read_csv('csv/colors.csv', names=index, header=None)"
   ]
  },
  {
   "cell_type": "markdown",
   "id": "73eeb883",
   "metadata": {},
   "source": [
    "## Calculating minimum distance from all colors and getting the most matching color"
   ]
  },
  {
   "cell_type": "code",
   "execution_count": 4,
   "id": "6c190a26",
   "metadata": {},
   "outputs": [],
   "source": [
    "def getColorName(R,G,B):\n",
    "    minimum = 10000\n",
    "    for i in range(len(csv)):\n",
    "        d = abs(R- int(csv.loc[i,\"R\"])) + abs(G- int(csv.loc[i,\"G\"]))+ abs(B- int(csv.loc[i,\"B\"]))\n",
    "        if(d<=minimum):\n",
    "            minimum = d\n",
    "            cname = csv.loc[i,\"color_name\"]\n",
    "    return cname"
   ]
  },
  {
   "cell_type": "markdown",
   "id": "38654755",
   "metadata": {},
   "source": [
    "## Getting x,y coordinates of mouse click"
   ]
  },
  {
   "cell_type": "code",
   "execution_count": 5,
   "id": "c78a29d7",
   "metadata": {},
   "outputs": [],
   "source": [
    "def draw_function(event, x,y,flags,param):\n",
    "    if event == cv2.EVENT_LBUTTONDBLCLK:\n",
    "        global b,g,r,xpos,ypos, clicked\n",
    "        clicked = True\n",
    "        xpos = x\n",
    "        ypos = y\n",
    "        b,g,r = img[y,x]\n",
    "        b = int(b)\n",
    "        g = int(g)\n",
    "        r = int(r)"
   ]
  },
  {
   "cell_type": "code",
   "execution_count": 6,
   "id": "2a57a9ad",
   "metadata": {},
   "outputs": [],
   "source": [
    "cv2.namedWindow('image')\n",
    "cv2.setMouseCallback('image',draw_function)"
   ]
  },
  {
   "cell_type": "code",
   "execution_count": 7,
   "id": "33e9cf38",
   "metadata": {},
   "outputs": [],
   "source": [
    "while(1):\n",
    "\n",
    "    cv2.imshow(\"image\",img)\n",
    "    if (clicked):\n",
    "   \n",
    "        #cv2.rectangle(image, startpoint, endpoint, color, thickness)-1 fills entire rectangle \n",
    "        cv2.rectangle(img,(20,20), (750,60), (b,g,r), -1)\n",
    "\n",
    "        #Creating text string to display( Color name and RGB values )\n",
    "        text = getColorName(r,g,b) + ' R='+ str(r) +  ' G='+ str(g) +  ' B='+ str(b)\n",
    "        \n",
    "        #cv2.putText(img,text,start,font(0-7),fontScale,color,thickness,lineType )\n",
    "        cv2.putText(img, text,(50,50),2,0.8,(255,255,255),2,cv2.LINE_AA)\n",
    "\n",
    "        #For very light colours we will display text in black colour\n",
    "        if(r+g+b>=600):\n",
    "            cv2.putText(img, text,(50,50),2,0.8,(0,0,0),2,cv2.LINE_AA)\n",
    "            \n",
    "        clicked=False\n",
    "\n",
    "    #it breaks the loop if we press escape button\n",
    "    if cv2.waitKey(20) & 0xFF ==27:\n",
    "        break"
   ]
  },
  {
   "cell_type": "code",
   "execution_count": 8,
   "id": "ae322a4d",
   "metadata": {},
   "outputs": [],
   "source": [
    "cv2.destroyAllWindows()"
   ]
  },
  {
   "cell_type": "markdown",
   "id": "2049d81c",
   "metadata": {},
   "source": [
    "# Conclusion\n",
    "\n",
    "### I was able to successfully create an image color detector which could identify the colors present in the images.\n",
    "\n",
    "\n",
    "# Thank You"
   ]
  }
 ],
 "metadata": {
  "kernelspec": {
   "display_name": "Python 3",
   "language": "python",
   "name": "python3"
  },
  "language_info": {
   "codemirror_mode": {
    "name": "ipython",
    "version": 3
   },
   "file_extension": ".py",
   "mimetype": "text/x-python",
   "name": "python",
   "nbconvert_exporter": "python",
   "pygments_lexer": "ipython3",
   "version": "3.8.8"
  }
 },
 "nbformat": 4,
 "nbformat_minor": 5
}
